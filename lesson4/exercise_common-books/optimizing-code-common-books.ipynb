{
 "cells": [
  {
   "cell_type": "markdown",
   "metadata": {},
   "source": [
    "# Optimizing Code: Common Books\n",
    "Here's the code your coworker wrote to find the common book ids in `books_published_last_two_years.txt` and `all_coding_books.txt` to obtain a list of recent coding books."
   ]
  },
  {
   "cell_type": "code",
   "execution_count": 1,
   "metadata": {},
   "outputs": [],
   "source": [
    "import time\n",
    "import pandas as pd\n",
    "import numpy as np"
   ]
  },
  {
   "cell_type": "code",
   "execution_count": 2,
   "metadata": {},
   "outputs": [],
   "source": [
    "with open('books_published_last_two_years.txt') as f:\n",
    "    recent_books = f.read().split('\\n')\n",
    "    \n",
    "with open('all_coding_books.txt') as f:\n",
    "    coding_books = f.read().split('\\n')"
   ]
  },
  {
   "cell_type": "code",
   "execution_count": 3,
   "metadata": {},
   "outputs": [
    {
     "output_type": "stream",
     "name": "stdout",
     "text": [
      "96\nDuration: 21.734366178512573 seconds\n"
     ]
    }
   ],
   "source": [
    "start = time.time()\n",
    "recent_coding_books = []\n",
    "\n",
    "for book in recent_books:\n",
    "    if book in coding_books:\n",
    "        recent_coding_books.append(book)\n",
    "\n",
    "print(len(recent_coding_books))\n",
    "print('Duration: {} seconds'.format(time.time() - start))"
   ]
  },
  {
   "cell_type": "markdown",
   "metadata": {},
   "source": [
    "### Tip #1: Use vector operations over loops when possible\n",
    "\n",
    "Use numpy's `intersect1d` method to get the intersection of the `recent_books` and `coding_books` arrays."
   ]
  },
  {
   "cell_type": "code",
   "execution_count": 4,
   "metadata": {},
   "outputs": [
    {
     "output_type": "stream",
     "name": "stdout",
     "text": [
      "96\nDuration: 0.06296062469482422 seconds\n"
     ]
    }
   ],
   "source": [
    "start = time.time()\n",
    "recent_coding_books = np.intersect1d(recent_books, coding_books) # TODO: compute intersection of lists\n",
    "print(len(recent_coding_books))\n",
    "print('Duration: {} seconds'.format(time.time() - start))"
   ]
  },
  {
   "cell_type": "markdown",
   "metadata": {},
   "source": [
    "### Tip #2: Know your data structures and which methods are faster\n",
    "Use the set's `intersection` method to get the common elements in `recent_books` and `coding_books`."
   ]
  },
  {
   "cell_type": "code",
   "execution_count": 5,
   "metadata": {},
   "outputs": [
    {
     "output_type": "stream",
     "name": "stdout",
     "text": [
      "96\nDuration: 0.016988515853881836 seconds\n"
     ]
    }
   ],
   "source": [
    "start = time.time()\n",
    "recent_coding_books =  set.intersection(set(recent_books), set(coding_books))# TODO: compute intersection of lists\n",
    "recent_coding_books = list(recent_coding_books)\n",
    "print(len(recent_coding_books))\n",
    "print('Duration: {} seconds'.format(time.time() - start))"
   ]
  },
  {
   "cell_type": "code",
   "execution_count": null,
   "metadata": {},
   "outputs": [],
   "source": []
  }
 ],
 "metadata": {
  "kernelspec": {
   "name": "python3",
   "display_name": "Python 3.9.5 64-bit ('envdatascience': conda)"
  },
  "language_info": {
   "codemirror_mode": {
    "name": "ipython",
    "version": 3
   },
   "file_extension": ".py",
   "mimetype": "text/x-python",
   "name": "python",
   "nbconvert_exporter": "python",
   "pygments_lexer": "ipython3",
   "version": "3.9.5"
  },
  "interpreter": {
   "hash": "31fbdb026a91ac5da8a51d61e43b011ce6057c0ee9d271d05ec906d9be192942"
  }
 },
 "nbformat": 4,
 "nbformat_minor": 2
}